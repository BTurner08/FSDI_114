{
 "cells": [
  {
   "cell_type": "code",
   "execution_count": 3,
   "id": "798a4bbb-a5fd-4a8c-be71-750e3c4cccdb",
   "metadata": {},
   "outputs": [
    {
     "name": "stdout",
     "output_type": "stream",
     "text": [
      "h\n",
      "e\n",
      "l\n",
      "l\n",
      "o\n",
      ",\n",
      " \n",
      "w\n",
      "o\n",
      "r\n",
      "l\n",
      "d\n"
     ]
    }
   ],
   "source": [
    "for char in \"hello, world\":\n",
    "    print(char)"
   ]
  },
  {
   "cell_type": "markdown",
   "id": "c21e0918-7109-4bbe-8260-867c669f82b6",
   "metadata": {},
   "source": [
    "# Problem 1\n",
    "## Anagram Checker\n",
    "Create a function that takes two strings as parameters and returns True if these are anagrams of each other, False otherwise.\n",
    "\n",
    "## What are anagrams?\n",
    "Two strings are said to be anagrams if all the criteria below are met:\n",
    "1. They must be of equal number of letters.\n",
    "2. They must use the same letters the same amount of times.\n",
    "\n",
    "## Examples\n",
    "'''\n",
    "heart and earth\n",
    "cars and scar\n",
    "star and rats\n",
    "aab and aba\n",
    "'''\n",
    "\n",
    "## Note\n",
    "The examples above are not the only possible combinations. Read the problem statement carefully!"
   ]
  },
  {
   "cell_type": "code",
   "execution_count": 4,
   "id": "46142877-cd4d-44f4-84b7-b47a82d84a03",
   "metadata": {},
   "outputs": [],
   "source": [
    "def anagram_check(str1, str2):\n",
    "    return sorted(str1) == sorted(str2)"
   ]
  },
  {
   "cell_type": "code",
   "execution_count": 6,
   "id": "d8efcfbd-e63f-495f-92ea-8f5c81ea7556",
   "metadata": {},
   "outputs": [
    {
     "name": "stdout",
     "output_type": "stream",
     "text": [
      "heart and earth are anagrams: True\n",
      "cars and scar are anagrams: True\n",
      "star and rats are anagrams: True\n",
      "Tom Marvolo Riddle and I am Lord Voldemort are anagrams: False\n"
     ]
    }
   ],
   "source": [
    "test_cases = [\n",
    "    (\"heart\", \"earth\"),\n",
    "    (\"cars\", \"scar\"),\n",
    "    (\"star\", \"rats\"),\n",
    "    (\"Tom Marvolo Riddle\", \"I am Lord Voldemort\"),\n",
    "]\n",
    "    \n",
    "\n",
    "for str1, str2 in test_cases:\n",
    "     print(\"%s and %s are anagrams: %s\" % (str1, str2, anagram_check(str1, str2)))"
   ]
  },
  {
   "cell_type": "code",
   "execution_count": 7,
   "id": "2dbca219-edc0-4bcc-887a-b5832729e871",
   "metadata": {},
   "outputs": [],
   "source": [
    "# Anagram check \n",
    "\n",
    "# Define function \"anagram_check\" with str1 and str2 as parameters:\n",
    "#   str1 = str1 without spaces and in lowercase\n",
    "#   str2 = str2 without spaces and in lowercase\n",
    "#   if the length of str1 is not equal to the length of str2\n",
    "#        return False\n",
    "#    dict1 = new dictionary\n",
    "#    dict2 = new dictionary\n",
    "#    for each number in the range from 0 to the length of str1:\n",
    "#         if the  character at position \"number\" in str1 is not in dict1:\n",
    "#               create a new extry in dict1 with that letter as the key and its value set to 1 # Indicating: I've seen it at least once\n",
    "#         otherwise:\n",
    "#               add 1 to the value associated with that letters entry in dict1\n",
    "#         if the character at position \"number\" in str2 is not in dict2:\n",
    "#               create a new extry in dict2 with that letter as the key and its value set to 1\n",
    "#         otherwise:\n",
    "#               add 1 to the value associated with that letters entry in dict2\n",
    "#     endfor\n",
    "#     if dict1 is equal to dict2:\n",
    "#           return True\n",
    "#     otherwise:\n",
    "#          return False\n",
    "\n"
   ]
  },
  {
   "cell_type": "code",
   "execution_count": 1,
   "id": "b117f0fd-c20a-4571-8f0c-e4d023bec521",
   "metadata": {},
   "outputs": [],
   "source": [
    "def anagram_check(str1, str2):\n",
    "    str1 = str1.replace(\" \",\"\").lower()\n",
    "    str2 = str2.replace(\" \",\"\").lower()\n",
    "\n",
    "    if len(str1) != len(str2):\n",
    "        return False\n",
    "\n",
    "    dict1 = {\n",
    "    }\n",
    "\n",
    "    dict2 = {\n",
    "    }\n",
    "\n",
    "    for number in range(len(str1)):\n",
    "        char = str1[number]\n",
    "        if char not in dict1:\n",
    "            dict1[char]= 1\n",
    "        else: \n",
    "            dict1[char] += 1\n",
    "        char = str2[number]\n",
    "        if char not in dict2:\n",
    "            dict2[char]= 1\n",
    "        else: \n",
    "            dict2[char] += 1\n",
    "    if dict1 == dict2:\n",
    "        return True\n",
    "    else:\n",
    "        return False"
   ]
  },
  {
   "cell_type": "code",
   "execution_count": 2,
   "id": "e717e867-0328-4201-975c-261bbc0f4eb0",
   "metadata": {},
   "outputs": [
    {
     "data": {
      "text/plain": [
       "True"
      ]
     },
     "execution_count": 2,
     "metadata": {},
     "output_type": "execute_result"
    }
   ],
   "source": [
    "anagram_check(\"Tom Marvolo Riddle\", \"I am Lord Voldemort\")"
   ]
  },
  {
   "cell_type": "code",
   "execution_count": 3,
   "id": "f86ffaa8-e572-4244-ab48-2dec7c0ca98b",
   "metadata": {},
   "outputs": [
    {
     "data": {
      "text/plain": [
       "True"
      ]
     },
     "execution_count": 3,
     "metadata": {},
     "output_type": "execute_result"
    }
   ],
   "source": [
    "anagram_check(\"heart\", \"earth\")"
   ]
  },
  {
   "cell_type": "code",
   "execution_count": null,
   "id": "45e37e8f-bde7-4ffb-9490-614dc30877df",
   "metadata": {},
   "outputs": [],
   "source": []
  }
 ],
 "metadata": {
  "kernelspec": {
   "display_name": "Python 3 (ipykernel)",
   "language": "python",
   "name": "python3"
  },
  "language_info": {
   "codemirror_mode": {
    "name": "ipython",
    "version": 3
   },
   "file_extension": ".py",
   "mimetype": "text/x-python",
   "name": "python",
   "nbconvert_exporter": "python",
   "pygments_lexer": "ipython3",
   "version": "3.10.12"
  }
 },
 "nbformat": 4,
 "nbformat_minor": 5
}
