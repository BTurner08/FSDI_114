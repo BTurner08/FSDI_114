{
 "cells": [
  {
   "cell_type": "markdown",
   "id": "7f215cc2-3100-4c6f-b18d-f62ae48e408b",
   "metadata": {},
   "source": [
    "# Stacks\n",
    "\n",
    "1. Simplified implementation, using built-ins.\n",
    "2. From-scratch implementation, without built-ins"
   ]
  },
  {
   "cell_type": "code",
   "execution_count": 8,
   "id": "da0e334e-68b0-4b97-8764-d2f991bf6bb0",
   "metadata": {},
   "outputs": [],
   "source": [
    "# Simplified implementation, relying on built-ins\n",
    "\n",
    "class Stack:\n",
    "    def __init__(self):\n",
    "        self.items =  []\n",
    "\n",
    "    def push(self, value):\n",
    "        self.items.append(value)\n",
    "\n",
    "    def pop(self):\n",
    "        return self.items.pop()\n",
    "\n",
    "    # Nice to have methods\n",
    "    def peek(self):\n",
    "        return self.items[len(self.items)-1]\n",
    "\n",
    "    def size(self):\n",
    "        return len(self.items)\n",
    "\n",
    "    def is_empty(self):\n",
    "        return self.items ==[]"
   ]
  },
  {
   "cell_type": "code",
   "execution_count": 12,
   "id": "9322945f-0d53-455f-8e9d-9a89020dea50",
   "metadata": {},
   "outputs": [
    {
     "data": {
      "text/plain": [
       "'dog'"
      ]
     },
     "execution_count": 12,
     "metadata": {},
     "output_type": "execute_result"
    }
   ],
   "source": [
    "def invert_str(mystring):\n",
    "    stack = Stack()\n",
    "    for char in mystring:\n",
    "        stack.push(char)\n",
    "    out= \"\"\n",
    "    while not stack.is_empty():\n",
    "        out += stack.pop()\n",
    "    return out\n",
    "\n",
    "invert_str(\"god\")"
   ]
  },
  {
   "cell_type": "code",
   "execution_count": 13,
   "id": "f1f364ed-3ad2-48bf-8d39-516d5d94307f",
   "metadata": {},
   "outputs": [],
   "source": [
    "# From scratch implementation of Stack\n",
    "\n",
    "class StackII:\n",
    "    def __init__(self):\n",
    "        self.top = None\n",
    "\n",
    "    class __Node:\n",
    "        def __init__(self, data):\n",
    "            self.data = data\n",
    "            self.below = None\n",
    "            \n",
    "    def push(self, value):\n",
    "        new_node = self.__Node(value)\n",
    "        if not self.top:\n",
    "            self.top = new_node\n",
    "        else:\n",
    "            new_node.below = self.top\n",
    "            self.top = new_node\n",
    "\n",
    "    def pop(self):\n",
    "        if not self.top:\n",
    "            datum = self.top.data\n",
    "            self.top = self.top.below\n",
    "            return datum\n",
    "        raise IndexError(\"Stack is empty\")\n",
    "\n",
    "    # Nice to have methods\n",
    "    def peek(self):\n",
    "        if not self.top:\n",
    "            raise IndexError(\"Stack is empty\")\n",
    "        else if self.top.data\n",
    "        return datum\n",
    "        # This should return the data element at the topmost node without removing the node from the collection\n",
    "    def size(self):\n",
    "        # This should return the number of Nodes in the stack\n",
    "        count = 0\n",
    "        top = self.top\n",
    "        while self.top is not None\n",
    "        count += 1\n",
    "        top = self.top.next\n",
    "        return count\n",
    "    def is_empty(self):\n",
    "        # This should return True when this stack is empty\n",
    "        if self.top = None\n",
    "        return True"
   ]
  },
  {
   "cell_type": "code",
   "execution_count": null,
   "id": "d941c502-01a6-4382-9b2f-a5a9d94be84c",
   "metadata": {},
   "outputs": [],
   "source": []
  }
 ],
 "metadata": {
  "kernelspec": {
   "display_name": "Python 3 (ipykernel)",
   "language": "python",
   "name": "python3"
  },
  "language_info": {
   "codemirror_mode": {
    "name": "ipython",
    "version": 3
   },
   "file_extension": ".py",
   "mimetype": "text/x-python",
   "name": "python",
   "nbconvert_exporter": "python",
   "pygments_lexer": "ipython3",
   "version": "3.10.12"
  }
 },
 "nbformat": 4,
 "nbformat_minor": 5
}
