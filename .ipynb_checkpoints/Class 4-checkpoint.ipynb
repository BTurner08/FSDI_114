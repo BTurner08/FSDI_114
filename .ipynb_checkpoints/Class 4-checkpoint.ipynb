{
 "cells": [
  {
   "cell_type": "code",
   "execution_count": null,
   "id": "84e1b505-cee0-4bd2-a9d3-2e07702f1503",
   "metadata": {},
   "outputs": [],
   "source": [
    "# From scratch implementation pf DLL\n",
    "\n",
    "class DoubleLinkedList:\n",
    "    class __Node:\n",
    "        def __init__(self,data):\n",
    "            self.data = data\n",
    "            self.next = None\n",
    "            self.prev = None\n",
    "            \n",
    "    def __init__(self):\n",
    "        self.head = None\n",
    "        self.tail = None\n",
    "        \n",
    "    def append(self, value):\n",
    "        pass\n",
    "\n",
    "    def prepend(self, value):\n",
    "        pass\n",
    "\n",
    "    def insert(self, index, value):\n",
    "        pass\n",
    "\n",
    "    def remove(self, value):\n",
    "        pass\n",
    "\n",
    "    def index(self, value):\n",
    "        # returns index of first match to value\n",
    "        pass\n",
    "        \n",
    "    def __getitem__(self, index):\n",
    "        pass\n",
    "\n",
    "    def __setitem__(self, index, value):\n",
    "        pass\n",
    "\n",
    "    def __str__(self):\n",
    "        return \"\" #pass\n",
    "                \n",
    "                "
   ]
  }
 ],
 "metadata": {
  "kernelspec": {
   "display_name": "Python 3 (ipykernel)",
   "language": "python",
   "name": "python3"
  },
  "language_info": {
   "codemirror_mode": {
    "name": "ipython",
    "version": 3
   },
   "file_extension": ".py",
   "mimetype": "text/x-python",
   "name": "python",
   "nbconvert_exporter": "python",
   "pygments_lexer": "ipython3",
   "version": "3.10.12"
  }
 },
 "nbformat": 4,
 "nbformat_minor": 5
}
